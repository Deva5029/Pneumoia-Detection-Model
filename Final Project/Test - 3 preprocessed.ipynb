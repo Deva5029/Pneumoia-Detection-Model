{
 "cells": [
  {
   "cell_type": "code",
   "execution_count": 1,
   "id": "47edc39f",
   "metadata": {},
   "outputs": [
    {
     "name": "stdout",
     "output_type": "stream",
     "text": [
      "Requirement already satisfied: scikit-image in /Library/Frameworks/Python.framework/Versions/3.11/lib/python3.11/site-packages (0.22.0)\n",
      "Requirement already satisfied: numpy>=1.22 in /Users/deva/Library/Python/3.11/lib/python/site-packages (from scikit-image) (1.23.5)\n",
      "Requirement already satisfied: scipy>=1.8 in /Users/deva/Library/Python/3.11/lib/python/site-packages (from scikit-image) (1.9.3)\n",
      "Requirement already satisfied: networkx>=2.8 in /Library/Frameworks/Python.framework/Versions/3.11/lib/python3.11/site-packages (from scikit-image) (3.2.1)\n",
      "Requirement already satisfied: pillow>=9.0.1 in /Users/deva/Library/Python/3.11/lib/python/site-packages (from scikit-image) (9.3.0)\n",
      "Requirement already satisfied: imageio>=2.27 in /Library/Frameworks/Python.framework/Versions/3.11/lib/python3.11/site-packages (from scikit-image) (2.34.0)\n",
      "Requirement already satisfied: tifffile>=2022.8.12 in /Library/Frameworks/Python.framework/Versions/3.11/lib/python3.11/site-packages (from scikit-image) (2024.2.12)\n",
      "Requirement already satisfied: packaging>=21 in /Library/Frameworks/Python.framework/Versions/3.11/lib/python3.11/site-packages (from scikit-image) (21.3)\n",
      "Requirement already satisfied: lazy_loader>=0.3 in /Library/Frameworks/Python.framework/Versions/3.11/lib/python3.11/site-packages (from scikit-image) (0.3)\n",
      "Requirement already satisfied: pyparsing!=3.0.5,>=2.0.2 in /Library/Frameworks/Python.framework/Versions/3.11/lib/python3.11/site-packages (from packaging>=21->scikit-image) (3.0.9)\n",
      "\n",
      "\u001b[1m[\u001b[0m\u001b[34;49mnotice\u001b[0m\u001b[1;39;49m]\u001b[0m\u001b[39;49m A new release of pip is available: \u001b[0m\u001b[31;49m23.2.1\u001b[0m\u001b[39;49m -> \u001b[0m\u001b[32;49m24.0\u001b[0m\n",
      "\u001b[1m[\u001b[0m\u001b[34;49mnotice\u001b[0m\u001b[1;39;49m]\u001b[0m\u001b[39;49m To update, run: \u001b[0m\u001b[32;49mpip3.11 install --upgrade pip\u001b[0m\n",
      "Note: you may need to restart the kernel to use updated packages.\n"
     ]
    }
   ],
   "source": [
    "pip install scikit-image"
   ]
  },
  {
   "cell_type": "code",
   "execution_count": 2,
   "id": "0264a036",
   "metadata": {
    "scrolled": true
   },
   "outputs": [],
   "source": [
    "import glob \n",
    "from pathlib import Path\n",
    "from skimage.io import imread\n",
    "import tensorflow as tf \n",
    "import matplotlib.pyplot as plt \n",
    "from tensorflow.keras.models import Model \n",
    "from tensorflow.keras.layers import Input, Dense, Conv2D, Flatten, GlobalMaxPool2D, MaxPooling2D, Dropout, BatchNormalization, Activation \n",
    "from tensorflow.keras.optimizers import Adam, SGD\n",
    "from tensorflow.keras.preprocessing.image import ImageDataGenerator\n",
    "from tensorflow.keras import regularizers\n"
   ]
  },
  {
   "cell_type": "code",
   "execution_count": 3,
   "id": "a2d9804a",
   "metadata": {},
   "outputs": [],
   "source": [
    "train_data = '/Users/deva/Desktop/DEVA/CSUN/Sem_3/Research/chest_xray/train'\n",
    "test_data = '/Users/deva/Desktop/DEVA/CSUN/Sem_3/Research/chest_xray/test'\n",
    "val_data = '/Users/deva/Desktop/DEVA/CSUN/Sem_3/Research/chest_xray/val'"
   ]
  },
  {
   "cell_type": "code",
   "execution_count": 4,
   "id": "64e78657",
   "metadata": {},
   "outputs": [],
   "source": [
    "normal = Path(train_data + '/NORMAL')\n",
    "pneumonia = Path(train_data + '/PNEUMONIA')\n",
    "images_normal = normal.glob('*.jpeg')\n",
    "images_pneumonia = pneumonia.glob('*.jpeg')"
   ]
  },
  {
   "cell_type": "code",
   "execution_count": 5,
   "id": "5d1dd4c0",
   "metadata": {},
   "outputs": [],
   "source": [
    "import pandas as pd"
   ]
  },
  {
   "cell_type": "code",
   "execution_count": 6,
   "id": "bef9d4ed",
   "metadata": {
    "scrolled": true
   },
   "outputs": [],
   "source": [
    "data_dir = Path('/Users/deva/Desktop/DEVA/CSUN/Sem_3/Research/chest_xray/train')  # Replace with the actual path to your data directory\n",
    "\n",
    "train_data = []\n",
    "\n",
    "normal = data_dir / 'NORMAL'\n",
    "for img in normal.iterdir():\n",
    "    train_data.append((img, 0))\n",
    "\n",
    "pneumonia = data_dir / 'PNEUMONIA'\n",
    "for img in pneumonia.iterdir():\n",
    "    train_data.append((img, 1))\n",
    "\n",
    "train_data = pd.DataFrame(train_data, columns=['Image', 'Class'])"
   ]
  },
  {
   "cell_type": "code",
   "execution_count": 7,
   "id": "9ad49ae6",
   "metadata": {},
   "outputs": [
    {
     "data": {
      "text/html": [
       "<div>\n",
       "<style scoped>\n",
       "    .dataframe tbody tr th:only-of-type {\n",
       "        vertical-align: middle;\n",
       "    }\n",
       "\n",
       "    .dataframe tbody tr th {\n",
       "        vertical-align: top;\n",
       "    }\n",
       "\n",
       "    .dataframe thead th {\n",
       "        text-align: right;\n",
       "    }\n",
       "</style>\n",
       "<table border=\"1\" class=\"dataframe\">\n",
       "  <thead>\n",
       "    <tr style=\"text-align: right;\">\n",
       "      <th></th>\n",
       "      <th>Image</th>\n",
       "      <th>Class</th>\n",
       "    </tr>\n",
       "  </thead>\n",
       "  <tbody>\n",
       "    <tr>\n",
       "      <th>0</th>\n",
       "      <td>/Users/deva/Desktop/DEVA/CSUN/Sem_3/Research/c...</td>\n",
       "      <td>1</td>\n",
       "    </tr>\n",
       "    <tr>\n",
       "      <th>1</th>\n",
       "      <td>/Users/deva/Desktop/DEVA/CSUN/Sem_3/Research/c...</td>\n",
       "      <td>0</td>\n",
       "    </tr>\n",
       "    <tr>\n",
       "      <th>2</th>\n",
       "      <td>/Users/deva/Desktop/DEVA/CSUN/Sem_3/Research/c...</td>\n",
       "      <td>1</td>\n",
       "    </tr>\n",
       "    <tr>\n",
       "      <th>3</th>\n",
       "      <td>/Users/deva/Desktop/DEVA/CSUN/Sem_3/Research/c...</td>\n",
       "      <td>1</td>\n",
       "    </tr>\n",
       "    <tr>\n",
       "      <th>4</th>\n",
       "      <td>/Users/deva/Desktop/DEVA/CSUN/Sem_3/Research/c...</td>\n",
       "      <td>1</td>\n",
       "    </tr>\n",
       "  </tbody>\n",
       "</table>\n",
       "</div>"
      ],
      "text/plain": [
       "                                               Image  Class\n",
       "0  /Users/deva/Desktop/DEVA/CSUN/Sem_3/Research/c...      1\n",
       "1  /Users/deva/Desktop/DEVA/CSUN/Sem_3/Research/c...      0\n",
       "2  /Users/deva/Desktop/DEVA/CSUN/Sem_3/Research/c...      1\n",
       "3  /Users/deva/Desktop/DEVA/CSUN/Sem_3/Research/c...      1\n",
       "4  /Users/deva/Desktop/DEVA/CSUN/Sem_3/Research/c...      1"
      ]
     },
     "execution_count": 7,
     "metadata": {},
     "output_type": "execute_result"
    }
   ],
   "source": [
    "train_data = train_data.sample(frac = 1).reset_index(drop = True)\n",
    "train_data.head()"
   ]
  },
  {
   "cell_type": "markdown",
   "id": "c4dc7d7b",
   "metadata": {},
   "source": [
    "# Pre-processing"
   ]
  },
  {
   "cell_type": "code",
   "execution_count": 8,
   "id": "756e794e",
   "metadata": {},
   "outputs": [
    {
     "name": "stdout",
     "output_type": "stream",
     "text": [
      "Found 5216 validated image filenames belonging to 2 classes.\n"
     ]
    }
   ],
   "source": [
    "image_size = (224, 224)\n",
    "batch_size = 32\n",
    "\n",
    "train_data['Image'] = train_data['Image'].astype(str)\n",
    "train_data['Class'] = train_data['Class'].astype(str)\n",
    "train_datagen = ImageDataGenerator(\n",
    "    rescale=1./255,\n",
    "    rotation_range=20,\n",
    "    width_shift_range=0.1,\n",
    "    height_shift_range=0.1,\n",
    "    shear_range=0.2,\n",
    "    zoom_range=0.2,\n",
    "    horizontal_flip=True,\n",
    "    preprocessing_function=lambda x: tf.image.resize(x, image_size)\n",
    ")\n",
    "\n",
    "train_generator = train_datagen.flow_from_dataframe(\n",
    "    train_data,\n",
    "    x_col='Image',\n",
    "    y_col='Class',\n",
    "    target_size=image_size,\n",
    "    batch_size=batch_size,\n",
    "    class_mode='binary'\n",
    ")\n"
   ]
  },
  {
   "cell_type": "code",
   "execution_count": 9,
   "id": "c7ab37f8",
   "metadata": {},
   "outputs": [
    {
     "name": "stdout",
     "output_type": "stream",
     "text": [
      "Found 624 images belonging to 2 classes.\n"
     ]
    }
   ],
   "source": [
    "test_datagen = ImageDataGenerator(rescale=1./255)\n",
    "test_generator = test_datagen.flow_from_directory(\n",
    "    test_data,             \n",
    "    target_size=image_size,    \n",
    "    batch_size=batch_size,    \n",
    "    class_mode='binary',       \n",
    "    shuffle=False              \n",
    ")"
   ]
  },
  {
   "cell_type": "code",
   "execution_count": 10,
   "id": "469d0778",
   "metadata": {},
   "outputs": [
    {
     "name": "stdout",
     "output_type": "stream",
     "text": [
      "Found 16 images belonging to 2 classes.\n"
     ]
    }
   ],
   "source": [
    "val_datagen = ImageDataGenerator(rescale=1./255)\n",
    "val_generator = val_datagen.flow_from_directory(\n",
    "    val_data,\n",
    "    target_size=image_size,\n",
    "    batch_size=batch_size,\n",
    "    class_mode='binary'\n",
    ")"
   ]
  },
  {
   "cell_type": "markdown",
   "id": "aa7e5d0b",
   "metadata": {},
   "source": [
    "# Model Building"
   ]
  },
  {
   "cell_type": "code",
   "execution_count": 11,
   "id": "2d337f58",
   "metadata": {},
   "outputs": [],
   "source": [
    "inputs = Input(shape=(224, 224, 3))\n",
    "\n",
    "x = Conv2D(32, (3, 3), activation='relu', padding = 'same')(inputs)\n",
    "# x = BatchNormalization()(x)\n",
    "x = MaxPooling2D((2, 2))(x)\n",
    "\n",
    "x = Conv2D(64, (3, 3), activation='relu', padding = 'same')(x)\n",
    "# x = BatchNormalization()(x)\n",
    "x = MaxPooling2D((2, 2))(x)\n",
    "\n",
    "x = Conv2D(128, (3, 3), activation='relu', padding = 'same')(x)\n",
    "# x = BatchNormalization()(x)\n",
    "x = MaxPooling2D((2, 2))(x)\n",
    "\n",
    "x = Flatten()(x)\n",
    "x = Dropout(0.2)(x)\n",
    "x = Dense(128, activation='relu')(x)\n",
    "x = Dense(64, activation='relu')(x)\n",
    "\n",
    "outputs = Dense(1, activation='sigmoid')(x)"
   ]
  },
  {
   "cell_type": "code",
   "execution_count": 12,
   "id": "0203f5b1",
   "metadata": {},
   "outputs": [
    {
     "name": "stderr",
     "output_type": "stream",
     "text": [
      "WARNING:absl:At this time, the v2.11+ optimizer `tf.keras.optimizers.Adam` runs slowly on M1/M2 Macs, please use the legacy Keras optimizer instead, located at `tf.keras.optimizers.legacy.Adam`.\n"
     ]
    }
   ],
   "source": [
    "model = Model(inputs, outputs)\n",
    "model.compile(optimizer=Adam(learning_rate=0.01),\n",
    "              loss='binary_crossentropy',\n",
    "              metrics=['accuracy'])"
   ]
  },
  {
   "cell_type": "markdown",
   "id": "7803e6f7",
   "metadata": {},
   "source": [
    "# Training"
   ]
  },
  {
   "cell_type": "code",
   "execution_count": 13,
   "id": "46f7c2b7",
   "metadata": {},
   "outputs": [
    {
     "name": "stdout",
     "output_type": "stream",
     "text": [
      "Epoch 1/10\n",
      "163/163 [==============================] - 114s 695ms/step - loss: 2.4672 - accuracy: 0.7362 - val_loss: 0.6808 - val_accuracy: 0.6250\n",
      "Epoch 2/10\n",
      "163/163 [==============================] - 111s 681ms/step - loss: 0.5725 - accuracy: 0.7429 - val_loss: 0.6750 - val_accuracy: 0.6250\n",
      "Epoch 3/10\n",
      "163/163 [==============================] - 128s 785ms/step - loss: 0.5717 - accuracy: 0.7429 - val_loss: 0.7062 - val_accuracy: 0.6250\n",
      "Epoch 4/10\n",
      "163/163 [==============================] - 142s 868ms/step - loss: 0.5718 - accuracy: 0.7429 - val_loss: 0.6868 - val_accuracy: 0.6250\n",
      "Epoch 5/10\n",
      "163/163 [==============================] - 117s 718ms/step - loss: 0.5707 - accuracy: 0.7429 - val_loss: 0.6870 - val_accuracy: 0.6250\n",
      "Epoch 6/10\n",
      "163/163 [==============================] - 114s 697ms/step - loss: 0.5710 - accuracy: 0.7429 - val_loss: 0.7002 - val_accuracy: 0.6250\n",
      "Epoch 7/10\n",
      "163/163 [==============================] - 126s 771ms/step - loss: 0.5710 - accuracy: 0.7429 - val_loss: 0.6897 - val_accuracy: 0.6250\n",
      "Epoch 8/10\n",
      "163/163 [==============================] - 113s 691ms/step - loss: 0.5706 - accuracy: 0.7429 - val_loss: 0.6823 - val_accuracy: 0.6250\n",
      "Epoch 9/10\n",
      "163/163 [==============================] - 133s 816ms/step - loss: 0.5707 - accuracy: 0.7429 - val_loss: 0.7063 - val_accuracy: 0.6250\n",
      "Epoch 10/10\n",
      "163/163 [==============================] - 130s 798ms/step - loss: 0.5709 - accuracy: 0.7429 - val_loss: 0.6994 - val_accuracy: 0.6250\n"
     ]
    }
   ],
   "source": [
    "history = model.fit(\n",
    "    train_generator,\n",
    "    steps_per_epoch=len(train_generator),\n",
    "    epochs=10,\n",
    "    verbose=1,\n",
    "    validation_data=test_generator,\n",
    "    validation_steps=len(test_generator)\n",
    ")"
   ]
  },
  {
   "cell_type": "markdown",
   "id": "d6fb68cf",
   "metadata": {},
   "source": [
    "# Plotting loss and error"
   ]
  },
  {
   "cell_type": "code",
   "execution_count": 14,
   "id": "0e88e08f",
   "metadata": {},
   "outputs": [
    {
     "data": {
      "image/png": "[encoded data removed]",
      "text/plain": [
       "<Figure size 640x480 with 1 Axes>"
      ]
     },
     "metadata": {},
     "output_type": "display_data"
    }
   ],
   "source": [
    "plt.plot(history.history['loss'], label = 'loss')\n",
    "plt.plot(history.history['val_loss'], label = 'val_loss')\n",
    "plt.legend()\n",
    "plt.show()"
   ]
  },
  {
   "cell_type": "code",
   "execution_count": 15,
   "id": "0541e9af",
   "metadata": {},
   "outputs": [
    {
     "data": {
      "image/png": "[encoded data removed]",
      "text/plain": [
       "<Figure size 640x480 with 1 Axes>"
      ]
     },
     "metadata": {},
     "output_type": "display_data"
    }
   ],
   "source": [
    "plt.plot(history.history['accuracy'], label = 'accuracy')\n",
    "plt.plot(history.history['val_accuracy'], label = 'val_accuracy')\n",
    "plt.legend()\n",
    "plt.show()"
   ]
  },
  {
   "cell_type": "markdown",
   "id": "09672d31",
   "metadata": {},
   "source": [
    "# Evaluating on test data"
   ]
  },
  {
   "cell_type": "code",
   "execution_count": 16,
   "id": "3a3e237d",
   "metadata": {},
   "outputs": [
    {
     "name": "stdout",
     "output_type": "stream",
     "text": [
      "20/20 [==============================] - 4s 203ms/step - loss: 0.6994 - accuracy: 0.6250\n",
      "Test accuracy: 0.625\n"
     ]
    }
   ],
   "source": [
    "test_loss, test_accuracy = model.evaluate(\n",
    "    test_generator,\n",
    "    verbose=1\n",
    ")\n",
    "\n",
    "print(\"Test accuracy:\", test_accuracy)"
   ]
  },
  {
   "cell_type": "code",
   "execution_count": null,
   "id": "18665dc7",
   "metadata": {},
   "outputs": [],
   "source": []
  },
  {
   "cell_type": "code",
   "execution_count": null,
   "id": "24395ac3",
   "metadata": {},
   "outputs": [],
   "source": []
  }
 ],
 "metadata": {
  "kernelspec": {
   "display_name": "Python 3 (ipykernel)",
   "language": "python",
   "name": "python3"
  },
  "language_info": {
   "codemirror_mode": {
    "name": "ipython",
    "version": 3
   },
   "file_extension": ".py",
   "mimetype": "text/x-python",
   "name": "python",
   "nbconvert_exporter": "python",
   "pygments_lexer": "ipython3",
   "version": "3.11.0"
  }
 },
 "nbformat": 4,
 "nbformat_minor": 5
}
